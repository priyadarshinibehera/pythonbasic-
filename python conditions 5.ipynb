{
 "cells": [
  {
   "cell_type": "markdown",
   "id": "da29a76c",
   "metadata": {},
   "source": [
    "# conditions"
   ]
  },
  {
   "cell_type": "markdown",
   "id": "d97fef8c",
   "metadata": {},
   "source": [
    " \"\"\"conditions has 3 modules if elif else\"\"\""
   ]
  },
  {
   "cell_type": "code",
   "execution_count": null,
   "id": "fc59dd78",
   "metadata": {},
   "outputs": [],
   "source": [
    "if condition    : \n",
    "    statement\n",
    "elif condition1 : \n",
    "    statement1\n",
    "elif condition2 : \n",
    "    statement2\n",
    "elif condition3 : \n",
    "    statement3\n",
    "else            : \n",
    "    end the statement \n"
   ]
  },
  {
   "cell_type": "code",
   "execution_count": 4,
   "id": "0736d53e",
   "metadata": {},
   "outputs": [
    {
     "name": "stdout",
     "output_type": "stream",
     "text": [
      "20\n"
     ]
    }
   ],
   "source": [
    "a= 10\n",
    "b= 20\n",
    "c= a+b\n",
    "if a>b:\n",
    "    print(c)\n",
    "elif a<b:\n",
    "    print(b)\n",
    "elif a!=b:\n",
    "    print(c)\n",
    "else: \n",
    "    print(\"enter the value:\")"
   ]
  },
  {
   "cell_type": "markdown",
   "id": "2d3d4138",
   "metadata": {},
   "source": [
    "# conditions and logical operations with binary "
   ]
  },
  {
   "cell_type": "code",
   "execution_count": null,
   "id": "9aee5ace",
   "metadata": {},
   "outputs": [],
   "source": [
    "if condition    : \n",
    "    statement\n",
    "elif condition1 : \n",
    "    statement1\n",
    "elif condition2 : \n",
    "    statement2\n",
    "elif condition3 : \n",
    "    statement3\n",
    "elif condition4 : \n",
    "    statement4\n",
    "else            : \n",
    "    end the statement \n"
   ]
  },
  {
   "cell_type": "code",
   "execution_count": 1,
   "id": "ce6505a9",
   "metadata": {},
   "outputs": [
    {
     "name": "stdout",
     "output_type": "stream",
     "text": [
      "10\n"
     ]
    }
   ],
   "source": [
    "a = 10\n",
    "if a ==10:\n",
    "    print(a)"
   ]
  },
  {
   "cell_type": "code",
   "execution_count": 3,
   "id": "3b29737a",
   "metadata": {},
   "outputs": [
    {
     "name": "stdout",
     "output_type": "stream",
     "text": [
      "b is grt then a\n"
     ]
    }
   ],
   "source": [
    "a = 10\n",
    "b = 20\n",
    "if a>b:\n",
    "    print(\"a is grt then b\")\n",
    "elif b>a:\n",
    "    print(\"b is grt then a\")"
   ]
  },
  {
   "cell_type": "code",
   "execution_count": 5,
   "id": "a9b73e3e",
   "metadata": {},
   "outputs": [
    {
     "name": "stdout",
     "output_type": "stream",
     "text": [
      " 1010\n"
     ]
    }
   ],
   "source": [
    "number = 10\n",
    "a = f'{number: b}'\n",
    "print(a)"
   ]
  },
  {
   "cell_type": "code",
   "execution_count": 6,
   "id": "8fedd2ba",
   "metadata": {},
   "outputs": [
    {
     "name": "stdout",
     "output_type": "stream",
     "text": [
      " 11110\n"
     ]
    }
   ],
   "source": [
    "number2 = 30\n",
    "b = f'{number2: 0b}'\n",
    "print(b)"
   ]
  },
  {
   "cell_type": "code",
   "execution_count": 7,
   "id": "87bc7eed",
   "metadata": {},
   "outputs": [
    {
     "name": "stdout",
     "output_type": "stream",
     "text": [
      " 000011110\n"
     ]
    }
   ],
   "source": [
    "number3 = 30\n",
    "c = f'{number3: 010b}'\n",
    "print(c)"
   ]
  },
  {
   "cell_type": "code",
   "execution_count": 8,
   "id": "24dcfc7e",
   "metadata": {},
   "outputs": [
    {
     "name": "stdout",
     "output_type": "stream",
     "text": [
      " 000000000000000000000000000000000000000000000000000000000000000000000000000000000000000000001100100\n"
     ]
    }
   ],
   "source": [
    "number4 = 100\n",
    "d = f'{number4: 0100b}'\n",
    "print(d)"
   ]
  },
  {
   "cell_type": "code",
   "execution_count": 9,
   "id": "17c471d5",
   "metadata": {},
   "outputs": [
    {
     "name": "stdout",
     "output_type": "stream",
     "text": [
      " 000000000000000000000000000000000000000000000000000000000000000000000000000000000000000000001100100\n"
     ]
    }
   ],
   "source": [
    "sanjana = 100\n",
    "e = f'{sanjana: 0100b}'\n",
    "print(e)"
   ]
  },
  {
   "cell_type": "markdown",
   "id": "b58dd7e3",
   "metadata": {},
   "source": [
    "# And or operation"
   ]
  },
  {
   "cell_type": "code",
   "execution_count": 10,
   "id": "adcfc668",
   "metadata": {},
   "outputs": [
    {
     "name": "stdout",
     "output_type": "stream",
     "text": [
      "10\n"
     ]
    }
   ],
   "source": [
    "a = 10\n",
    "b = 20\n",
    "if a == 10 or a == 20:\n",
    "    print(a)"
   ]
  },
  {
   "cell_type": "code",
   "execution_count": 11,
   "id": "22e07428",
   "metadata": {},
   "outputs": [],
   "source": [
    "if a == 10 and a == 20:\n",
    "    print(a)"
   ]
  },
  {
   "cell_type": "code",
   "execution_count": 12,
   "id": "0e008b3e",
   "metadata": {},
   "outputs": [],
   "source": [
    "if b == 10 and b == 20:\n",
    "    print (b)"
   ]
  },
  {
   "cell_type": "code",
   "execution_count": 14,
   "id": "8d97cdc5",
   "metadata": {},
   "outputs": [
    {
     "name": "stdout",
     "output_type": "stream",
     "text": [
      "10\n"
     ]
    }
   ],
   "source": [
    "if a == 10 or a == 20:\n",
    "    print(a)"
   ]
  },
  {
   "cell_type": "code",
   "execution_count": 15,
   "id": "e2722956",
   "metadata": {},
   "outputs": [
    {
     "name": "stdout",
     "output_type": "stream",
     "text": [
      "20\n"
     ]
    }
   ],
   "source": [
    "if b == 10 or b == 20:\n",
    "    print (b)"
   ]
  },
  {
   "cell_type": "markdown",
   "id": "ee63b879",
   "metadata": {},
   "source": []
  },
  {
   "cell_type": "code",
   "execution_count": null,
   "id": "580d54fa",
   "metadata": {},
   "outputs": [],
   "source": []
  }
 ],
 "metadata": {
  "kernelspec": {
   "display_name": "Python 3 (ipykernel)",
   "language": "python",
   "name": "python3"
  },
  "language_info": {
   "codemirror_mode": {
    "name": "ipython",
    "version": 3
   },
   "file_extension": ".py",
   "mimetype": "text/x-python",
   "name": "python",
   "nbconvert_exporter": "python",
   "pygments_lexer": "ipython3",
   "version": "3.10.9"
  }
 },
 "nbformat": 4,
 "nbformat_minor": 5
}
