{
 "cells": [
  {
   "cell_type": "markdown",
   "id": "f392dfb6",
   "metadata": {},
   "source": [
    "# boolen, conditions and list manupilation"
   ]
  },
  {
   "cell_type": "markdown",
   "id": "24b63465",
   "metadata": {},
   "source": [
    "# True or False are of a condition is known as boolen"
   ]
  },
  {
   "cell_type": "code",
   "execution_count": 3,
   "id": "6572d250",
   "metadata": {},
   "outputs": [],
   "source": [
    "a = 10 \n",
    "b = 5"
   ]
  },
  {
   "cell_type": "code",
   "execution_count": 4,
   "id": "77f5d0b4",
   "metadata": {},
   "outputs": [
    {
     "name": "stdout",
     "output_type": "stream",
     "text": [
      "True\n"
     ]
    }
   ],
   "source": [
    "print(a> b)"
   ]
  },
  {
   "cell_type": "code",
   "execution_count": 5,
   "id": "bc80d7b2",
   "metadata": {},
   "outputs": [],
   "source": [
    "car = 20"
   ]
  },
  {
   "cell_type": "code",
   "execution_count": 6,
   "id": "3e7eda61",
   "metadata": {},
   "outputs": [],
   "source": [
    "bike = 40"
   ]
  },
  {
   "cell_type": "code",
   "execution_count": 7,
   "id": "60b21c49",
   "metadata": {},
   "outputs": [
    {
     "name": "stdout",
     "output_type": "stream",
     "text": [
      "True\n"
     ]
    }
   ],
   "source": [
    "print (bike > car)"
   ]
  },
  {
   "cell_type": "code",
   "execution_count": 8,
   "id": "7fe355e4",
   "metadata": {},
   "outputs": [],
   "source": [
    "priya = 100"
   ]
  },
  {
   "cell_type": "code",
   "execution_count": 9,
   "id": "10828ed9",
   "metadata": {},
   "outputs": [],
   "source": [
    "world = 20"
   ]
  },
  {
   "cell_type": "code",
   "execution_count": 12,
   "id": "64e00b3d",
   "metadata": {},
   "outputs": [
    {
     "name": "stdout",
     "output_type": "stream",
     "text": [
      "True\n"
     ]
    }
   ],
   "source": [
    "print (priya > world)"
   ]
  },
  {
   "cell_type": "code",
   "execution_count": 13,
   "id": "285d9a6e",
   "metadata": {},
   "outputs": [
    {
     "name": "stdout",
     "output_type": "stream",
     "text": [
      "False\n"
     ]
    }
   ],
   "source": [
    "print (priya<world)"
   ]
  },
  {
   "cell_type": "markdown",
   "id": "1f005176",
   "metadata": {},
   "source": [
    "# arithmetic operation "
   ]
  },
  {
   "cell_type": "code",
   "execution_count": null,
   "id": "f19fbbf1",
   "metadata": {},
   "outputs": [],
   "source": [
    "+, -,*, /, %"
   ]
  },
  {
   "cell_type": "code",
   "execution_count": 16,
   "id": "d2a11cb3",
   "metadata": {},
   "outputs": [],
   "source": [
    "a = 10\n",
    "b = 20"
   ]
  },
  {
   "cell_type": "code",
   "execution_count": 17,
   "id": "6cf6c667",
   "metadata": {},
   "outputs": [
    {
     "data": {
      "text/plain": [
       "30"
      ]
     },
     "execution_count": 17,
     "metadata": {},
     "output_type": "execute_result"
    }
   ],
   "source": [
    "a+b"
   ]
  },
  {
   "cell_type": "code",
   "execution_count": 18,
   "id": "9d95e3ca",
   "metadata": {},
   "outputs": [
    {
     "data": {
      "text/plain": [
       "-10"
      ]
     },
     "execution_count": 18,
     "metadata": {},
     "output_type": "execute_result"
    }
   ],
   "source": [
    "a-b"
   ]
  },
  {
   "cell_type": "code",
   "execution_count": 19,
   "id": "9ba5a30c",
   "metadata": {},
   "outputs": [
    {
     "data": {
      "text/plain": [
       "200"
      ]
     },
     "execution_count": 19,
     "metadata": {},
     "output_type": "execute_result"
    }
   ],
   "source": [
    "a*b"
   ]
  },
  {
   "cell_type": "code",
   "execution_count": 20,
   "id": "163e115e",
   "metadata": {},
   "outputs": [
    {
     "data": {
      "text/plain": [
       "0.5"
      ]
     },
     "execution_count": 20,
     "metadata": {},
     "output_type": "execute_result"
    }
   ],
   "source": [
    "a/b"
   ]
  },
  {
   "cell_type": "code",
   "execution_count": 21,
   "id": "b23772b1",
   "metadata": {},
   "outputs": [
    {
     "data": {
      "text/plain": [
       "10"
      ]
     },
     "execution_count": 21,
     "metadata": {},
     "output_type": "execute_result"
    }
   ],
   "source": [
    "a%b"
   ]
  },
  {
   "cell_type": "code",
   "execution_count": 28,
   "id": "0b246416",
   "metadata": {},
   "outputs": [],
   "source": [
    "car = 20\n",
    "pen = 40"
   ]
  },
  {
   "cell_type": "code",
   "execution_count": 29,
   "id": "25d6295e",
   "metadata": {},
   "outputs": [
    {
     "name": "stdout",
     "output_type": "stream",
     "text": [
      "60\n"
     ]
    }
   ],
   "source": [
    "print (car + pen)"
   ]
  },
  {
   "cell_type": "code",
   "execution_count": 30,
   "id": "e31fd0a4",
   "metadata": {},
   "outputs": [
    {
     "name": "stdout",
     "output_type": "stream",
     "text": [
      "here we are adding car an pen variable\n"
     ]
    }
   ],
   "source": [
    "print(\"here we are adding car an pen variable\",)"
   ]
  },
  {
   "cell_type": "code",
   "execution_count": 25,
   "id": "825cea34",
   "metadata": {},
   "outputs": [],
   "source": [
    "car = 30\n",
    "pen = 40"
   ]
  },
  {
   "cell_type": "code",
   "execution_count": 26,
   "id": "bd6ac591",
   "metadata": {},
   "outputs": [],
   "source": [
    "book = car + pen"
   ]
  },
  {
   "cell_type": "code",
   "execution_count": 27,
   "id": "b1563c8f",
   "metadata": {},
   "outputs": [
    {
     "name": "stdout",
     "output_type": "stream",
     "text": [
      "here we are doing concatination of car and pen: value of book is:- 70\n"
     ]
    }
   ],
   "source": [
    "print(\"here we are doing concatination of car and pen: value of book is:-\", book)"
   ]
  },
  {
   "cell_type": "code",
   "execution_count": 32,
   "id": "6d57aa8d",
   "metadata": {},
   "outputs": [],
   "source": [
    "a = 40\n",
    "car = 20\n",
    "value = a+car\n",
    "value2 = a-car\n",
    "value3 = a*car\n",
    "value4 = a%car\n",
    "value5 = a*100/car # this is the percentage of a car"
   ]
  },
  {
   "cell_type": "code",
   "execution_count": 33,
   "id": "eede2fba",
   "metadata": {},
   "outputs": [
    {
     "name": "stdout",
     "output_type": "stream",
     "text": [
      "60\n"
     ]
    }
   ],
   "source": [
    "print(value)"
   ]
  },
  {
   "cell_type": "code",
   "execution_count": 35,
   "id": "4981f1a8",
   "metadata": {},
   "outputs": [
    {
     "name": "stdout",
     "output_type": "stream",
     "text": [
      "20\n"
     ]
    }
   ],
   "source": [
    "print(value2)"
   ]
  },
  {
   "cell_type": "code",
   "execution_count": 36,
   "id": "f839b049",
   "metadata": {},
   "outputs": [
    {
     "name": "stdout",
     "output_type": "stream",
     "text": [
      "800\n"
     ]
    }
   ],
   "source": [
    "print(value3)"
   ]
  },
  {
   "cell_type": "code",
   "execution_count": 37,
   "id": "c75ce543",
   "metadata": {},
   "outputs": [
    {
     "name": "stdout",
     "output_type": "stream",
     "text": [
      "0\n"
     ]
    }
   ],
   "source": [
    "print(value4)"
   ]
  },
  {
   "cell_type": "code",
   "execution_count": 38,
   "id": "e9d8bbd4",
   "metadata": {},
   "outputs": [
    {
     "name": "stdout",
     "output_type": "stream",
     "text": [
      "200.0\n"
     ]
    }
   ],
   "source": [
    "print(value5)"
   ]
  },
  {
   "cell_type": "markdown",
   "id": "e9d418b9",
   "metadata": {},
   "source": [
    "# list manupilation"
   ]
  },
  {
   "cell_type": "code",
   "execution_count": 39,
   "id": "28479a01",
   "metadata": {},
   "outputs": [],
   "source": [
    "t = (1,2,3.5,\"priya\")"
   ]
  },
  {
   "cell_type": "code",
   "execution_count": 40,
   "id": "44fd1e1d",
   "metadata": {},
   "outputs": [
    {
     "data": {
      "text/plain": [
       "tuple"
      ]
     },
     "execution_count": 40,
     "metadata": {},
     "output_type": "execute_result"
    }
   ],
   "source": [
    "type(t)"
   ]
  },
  {
   "cell_type": "code",
   "execution_count": 41,
   "id": "f6538e87",
   "metadata": {},
   "outputs": [
    {
     "data": {
      "text/plain": [
       "[1, 2, 3.5, 'priya']"
      ]
     },
     "execution_count": 41,
     "metadata": {},
     "output_type": "execute_result"
    }
   ],
   "source": [
    "list (t)"
   ]
  },
  {
   "cell_type": "code",
   "execution_count": 42,
   "id": "e80443c8",
   "metadata": {},
   "outputs": [],
   "source": [
    "b = list(t)"
   ]
  },
  {
   "cell_type": "code",
   "execution_count": 43,
   "id": "de1c8829",
   "metadata": {},
   "outputs": [
    {
     "data": {
      "text/plain": [
       "list"
      ]
     },
     "execution_count": 43,
     "metadata": {},
     "output_type": "execute_result"
    }
   ],
   "source": [
    "type(b)"
   ]
  },
  {
   "cell_type": "code",
   "execution_count": 44,
   "id": "38c5c137",
   "metadata": {},
   "outputs": [],
   "source": [
    "b = {1,2,3,4,\"priya\",\"rani\"}"
   ]
  },
  {
   "cell_type": "code",
   "execution_count": 45,
   "id": "e0bcc8b7",
   "metadata": {},
   "outputs": [
    {
     "data": {
      "text/plain": [
       "set"
      ]
     },
     "execution_count": 45,
     "metadata": {},
     "output_type": "execute_result"
    }
   ],
   "source": [
    "type(b)"
   ]
  },
  {
   "cell_type": "code",
   "execution_count": 46,
   "id": "a9507408",
   "metadata": {},
   "outputs": [
    {
     "data": {
      "text/plain": [
       "[1, 2, 3, 4, 'priya', 'rani']"
      ]
     },
     "execution_count": 46,
     "metadata": {},
     "output_type": "execute_result"
    }
   ],
   "source": [
    "list(b)"
   ]
  },
  {
   "cell_type": "code",
   "execution_count": 47,
   "id": "436e0b80",
   "metadata": {},
   "outputs": [],
   "source": [
    "s1 = list(b)"
   ]
  },
  {
   "cell_type": "code",
   "execution_count": 48,
   "id": "8ecfd7e4",
   "metadata": {},
   "outputs": [
    {
     "name": "stdout",
     "output_type": "stream",
     "text": [
      "[1, 2, 3, 4, 'priya', 'rani']\n"
     ]
    }
   ],
   "source": [
    "print(s1)"
   ]
  },
  {
   "cell_type": "code",
   "execution_count": 49,
   "id": "85234124",
   "metadata": {},
   "outputs": [
    {
     "data": {
      "text/plain": [
       "list"
      ]
     },
     "execution_count": 49,
     "metadata": {},
     "output_type": "execute_result"
    }
   ],
   "source": [
    "type(s1)"
   ]
  },
  {
   "cell_type": "code",
   "execution_count": 7,
   "id": "4e782a9b",
   "metadata": {},
   "outputs": [],
   "source": [
    "t = (1,2,3,4,5,6,7,8,9,10, \"priya\",\"rani\")"
   ]
  },
  {
   "cell_type": "code",
   "execution_count": 8,
   "id": "677134ce",
   "metadata": {},
   "outputs": [
    {
     "data": {
      "text/plain": [
       "tuple"
      ]
     },
     "execution_count": 8,
     "metadata": {},
     "output_type": "execute_result"
    }
   ],
   "source": [
    "type(t)"
   ]
  },
  {
   "cell_type": "code",
   "execution_count": 9,
   "id": "ed5dff28",
   "metadata": {},
   "outputs": [
    {
     "data": {
      "text/plain": [
       "[1, 2, 3, 4, 5, 6, 7, 8, 9, 10, 'priya', 'rani']"
      ]
     },
     "execution_count": 9,
     "metadata": {},
     "output_type": "execute_result"
    }
   ],
   "source": [
    "list(t)"
   ]
  },
  {
   "cell_type": "code",
   "execution_count": 10,
   "id": "dffad316",
   "metadata": {},
   "outputs": [],
   "source": [
    "a = {1,2,3,4,5,6,7,8,9,10,\"priya\",\"rani\"}"
   ]
  },
  {
   "cell_type": "code",
   "execution_count": 11,
   "id": "e2a200c8",
   "metadata": {},
   "outputs": [
    {
     "data": {
      "text/plain": [
       "set"
      ]
     },
     "execution_count": 11,
     "metadata": {},
     "output_type": "execute_result"
    }
   ],
   "source": [
    "type(a)"
   ]
  },
  {
   "cell_type": "code",
   "execution_count": 12,
   "id": "1cb4da76",
   "metadata": {},
   "outputs": [
    {
     "data": {
      "text/plain": [
       "[1, 2, 3, 4, 5, 6, 7, 8, 9, 10, 'priya', 'rani']"
      ]
     },
     "execution_count": 12,
     "metadata": {},
     "output_type": "execute_result"
    }
   ],
   "source": [
    "list(a)"
   ]
  },
  {
   "cell_type": "code",
   "execution_count": 13,
   "id": "2a702630",
   "metadata": {},
   "outputs": [],
   "source": [
    "s1 = list(a)"
   ]
  },
  {
   "cell_type": "code",
   "execution_count": 14,
   "id": "50b13fc3",
   "metadata": {},
   "outputs": [
    {
     "name": "stdout",
     "output_type": "stream",
     "text": [
      "{1, 2, 3, 4, 5, 6, 7, 8, 9, 10, 'priya', 'rani'}\n"
     ]
    }
   ],
   "source": [
    "print(a)"
   ]
  },
  {
   "cell_type": "code",
   "execution_count": 15,
   "id": "24811493",
   "metadata": {},
   "outputs": [
    {
     "data": {
      "text/plain": [
       "set"
      ]
     },
     "execution_count": 15,
     "metadata": {},
     "output_type": "execute_result"
    }
   ],
   "source": [
    "type(a)"
   ]
  },
  {
   "cell_type": "code",
   "execution_count": null,
   "id": "c7fcbe8f",
   "metadata": {},
   "outputs": [],
   "source": []
  }
 ],
 "metadata": {
  "kernelspec": {
   "display_name": "Python 3 (ipykernel)",
   "language": "python",
   "name": "python3"
  },
  "language_info": {
   "codemirror_mode": {
    "name": "ipython",
    "version": 3
   },
   "file_extension": ".py",
   "mimetype": "text/x-python",
   "name": "python",
   "nbconvert_exporter": "python",
   "pygments_lexer": "ipython3",
   "version": "3.10.9"
  }
 },
 "nbformat": 4,
 "nbformat_minor": 5
}
