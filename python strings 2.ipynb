{
 "cells": [
  {
   "cell_type": "markdown",
   "id": "2adb078b",
   "metadata": {},
   "source": [
    "# strings"
   ]
  },
  {
   "cell_type": "code",
   "execution_count": 1,
   "id": "85f9bbcc",
   "metadata": {},
   "outputs": [],
   "source": [
    "strings = \"priya\""
   ]
  },
  {
   "cell_type": "code",
   "execution_count": 1,
   "id": "9dfc8b7a",
   "metadata": {},
   "outputs": [],
   "source": [
    "name = \"rani\""
   ]
  },
  {
   "cell_type": "code",
   "execution_count": 2,
   "id": "d9af8a35",
   "metadata": {},
   "outputs": [
    {
     "data": {
      "text/plain": [
       "'rani'"
      ]
     },
     "execution_count": 2,
     "metadata": {},
     "output_type": "execute_result"
    }
   ],
   "source": [
    "name "
   ]
  },
  {
   "cell_type": "code",
   "execution_count": 3,
   "id": "96ede610",
   "metadata": {},
   "outputs": [],
   "source": [
    "passion = \"photograpy\""
   ]
  },
  {
   "cell_type": "code",
   "execution_count": 4,
   "id": "8b9684ad",
   "metadata": {},
   "outputs": [
    {
     "data": {
      "text/plain": [
       "'photograpy'"
      ]
     },
     "execution_count": 4,
     "metadata": {},
     "output_type": "execute_result"
    }
   ],
   "source": [
    "passion"
   ]
  },
  {
   "cell_type": "code",
   "execution_count": 5,
   "id": "f3d6a245",
   "metadata": {},
   "outputs": [],
   "source": [
    "sanjana = \"world\""
   ]
  },
  {
   "cell_type": "code",
   "execution_count": 6,
   "id": "48717eee",
   "metadata": {},
   "outputs": [
    {
     "data": {
      "text/plain": [
       "'world'"
      ]
     },
     "execution_count": 6,
     "metadata": {},
     "output_type": "execute_result"
    }
   ],
   "source": [
    "sanjana"
   ]
  },
  {
   "cell_type": "code",
   "execution_count": 7,
   "id": "5726435d",
   "metadata": {},
   "outputs": [],
   "source": [
    "bmw = \"x1\""
   ]
  },
  {
   "cell_type": "code",
   "execution_count": 8,
   "id": "5ca26e80",
   "metadata": {},
   "outputs": [
    {
     "data": {
      "text/plain": [
       "'x1'"
      ]
     },
     "execution_count": 8,
     "metadata": {},
     "output_type": "execute_result"
    }
   ],
   "source": [
    "bmw"
   ]
  },
  {
   "cell_type": "code",
   "execution_count": 9,
   "id": "bf34c48b",
   "metadata": {},
   "outputs": [],
   "source": [
    "python = \"anaconda\""
   ]
  },
  {
   "cell_type": "code",
   "execution_count": 10,
   "id": "042120d6",
   "metadata": {},
   "outputs": [
    {
     "data": {
      "text/plain": [
       "'anaconda'"
      ]
     },
     "execution_count": 10,
     "metadata": {},
     "output_type": "execute_result"
    }
   ],
   "source": [
    "python"
   ]
  },
  {
   "cell_type": "code",
   "execution_count": 11,
   "id": "144bdcaa",
   "metadata": {},
   "outputs": [],
   "source": [
    "programming = \"langange\""
   ]
  },
  {
   "cell_type": "code",
   "execution_count": 12,
   "id": "a906d7ba",
   "metadata": {},
   "outputs": [
    {
     "data": {
      "text/plain": [
       "'langange'"
      ]
     },
     "execution_count": 12,
     "metadata": {},
     "output_type": "execute_result"
    }
   ],
   "source": [
    "programming"
   ]
  },
  {
   "cell_type": "code",
   "execution_count": 13,
   "id": "25222f3c",
   "metadata": {},
   "outputs": [],
   "source": [
    "coding = \"IT techonology\""
   ]
  },
  {
   "cell_type": "code",
   "execution_count": 14,
   "id": "72776fbd",
   "metadata": {},
   "outputs": [
    {
     "data": {
      "text/plain": [
       "'IT techonology'"
      ]
     },
     "execution_count": 14,
     "metadata": {},
     "output_type": "execute_result"
    }
   ],
   "source": [
    "coding"
   ]
  },
  {
   "cell_type": "code",
   "execution_count": 15,
   "id": "9a92b4c7",
   "metadata": {},
   "outputs": [],
   "source": [
    "education = \"learning\""
   ]
  },
  {
   "cell_type": "code",
   "execution_count": 16,
   "id": "55613a48",
   "metadata": {},
   "outputs": [
    {
     "data": {
      "text/plain": [
       "'learning'"
      ]
     },
     "execution_count": 16,
     "metadata": {},
     "output_type": "execute_result"
    }
   ],
   "source": [
    "education"
   ]
  },
  {
   "cell_type": "code",
   "execution_count": 17,
   "id": "485e994a",
   "metadata": {},
   "outputs": [],
   "source": [
    "priyadarshini = \"topper\""
   ]
  },
  {
   "cell_type": "code",
   "execution_count": 18,
   "id": "26f957c3",
   "metadata": {},
   "outputs": [
    {
     "data": {
      "text/plain": [
       "'topper'"
      ]
     },
     "execution_count": 18,
     "metadata": {},
     "output_type": "execute_result"
    }
   ],
   "source": [
    "priyadarshini"
   ]
  },
  {
   "cell_type": "code",
   "execution_count": 19,
   "id": "d968d0c9",
   "metadata": {},
   "outputs": [],
   "source": [
    "college = \"keshav memorial institute of commerce and sciences\""
   ]
  },
  {
   "cell_type": "code",
   "execution_count": 20,
   "id": "ce29fa10",
   "metadata": {},
   "outputs": [
    {
     "data": {
      "text/plain": [
       "'keshav memorial institute of commerce and sciences'"
      ]
     },
     "execution_count": 20,
     "metadata": {},
     "output_type": "execute_result"
    }
   ],
   "source": [
    "college"
   ]
  },
  {
   "cell_type": "code",
   "execution_count": 21,
   "id": "0ce176ee",
   "metadata": {},
   "outputs": [],
   "source": [
    "number = \"2023\""
   ]
  },
  {
   "cell_type": "code",
   "execution_count": 22,
   "id": "843b6473",
   "metadata": {},
   "outputs": [
    {
     "data": {
      "text/plain": [
       "'2023'"
      ]
     },
     "execution_count": 22,
     "metadata": {},
     "output_type": "execute_result"
    }
   ],
   "source": [
    "number"
   ]
  },
  {
   "cell_type": "code",
   "execution_count": 23,
   "id": "b2852c91",
   "metadata": {},
   "outputs": [
    {
     "data": {
      "text/plain": [
       "str"
      ]
     },
     "execution_count": 23,
     "metadata": {},
     "output_type": "execute_result"
    }
   ],
   "source": [
    "type(number)"
   ]
  },
  {
   "cell_type": "code",
   "execution_count": 26,
   "id": "7aa41634",
   "metadata": {},
   "outputs": [
    {
     "data": {
      "text/plain": [
       "int"
      ]
     },
     "execution_count": 26,
     "metadata": {},
     "output_type": "execute_result"
    }
   ],
   "source": [
    "type(2023)"
   ]
  },
  {
   "cell_type": "raw",
   "id": "1326db72",
   "metadata": {},
   "source": [
    "number(1)"
   ]
  },
  {
   "cell_type": "code",
   "execution_count": 27,
   "id": "2f87063b",
   "metadata": {},
   "outputs": [],
   "source": [
    "number1 = 2023"
   ]
  },
  {
   "cell_type": "code",
   "execution_count": 28,
   "id": "0f2ef673",
   "metadata": {},
   "outputs": [
    {
     "data": {
      "text/plain": [
       "2023"
      ]
     },
     "execution_count": 28,
     "metadata": {},
     "output_type": "execute_result"
    }
   ],
   "source": [
    "number1"
   ]
  },
  {
   "cell_type": "code",
   "execution_count": 29,
   "id": "8d298170",
   "metadata": {},
   "outputs": [
    {
     "data": {
      "text/plain": [
       "int"
      ]
     },
     "execution_count": 29,
     "metadata": {},
     "output_type": "execute_result"
    }
   ],
   "source": [
    "type(number1)"
   ]
  },
  {
   "cell_type": "code",
   "execution_count": 31,
   "id": "102d82f4",
   "metadata": {},
   "outputs": [],
   "source": [
    "s=(1,2,3,4,5,6,7)"
   ]
  },
  {
   "cell_type": "code",
   "execution_count": 32,
   "id": "34322cf3",
   "metadata": {},
   "outputs": [
    {
     "data": {
      "text/plain": [
       "(1, 2, 3, 4, 5, 6, 7)"
      ]
     },
     "execution_count": 32,
     "metadata": {},
     "output_type": "execute_result"
    }
   ],
   "source": [
    "s"
   ]
  },
  {
   "cell_type": "code",
   "execution_count": 33,
   "id": "0bbabd07",
   "metadata": {},
   "outputs": [
    {
     "data": {
      "text/plain": [
       "tuple"
      ]
     },
     "execution_count": 33,
     "metadata": {},
     "output_type": "execute_result"
    }
   ],
   "source": [
    "type(s)"
   ]
  },
  {
   "cell_type": "code",
   "execution_count": 35,
   "id": "4752073b",
   "metadata": {},
   "outputs": [],
   "source": [
    "s1 = (\"priya\",\"coding\",\"👍\",\"🎶\",\"❤️\")"
   ]
  },
  {
   "cell_type": "code",
   "execution_count": 36,
   "id": "df02c790",
   "metadata": {},
   "outputs": [
    {
     "data": {
      "text/plain": [
       "('priya', 'coding', '👍', '🎶', '❤️')"
      ]
     },
     "execution_count": 36,
     "metadata": {},
     "output_type": "execute_result"
    }
   ],
   "source": [
    "s1"
   ]
  },
  {
   "cell_type": "code",
   "execution_count": 37,
   "id": "a445ad5f",
   "metadata": {},
   "outputs": [],
   "source": [
    "car = [\"awm\",\"audi\",\"benz\",\"volvo\"]"
   ]
  },
  {
   "cell_type": "code",
   "execution_count": 38,
   "id": "c1d6b94e",
   "metadata": {},
   "outputs": [
    {
     "data": {
      "text/plain": [
       "['awm', 'audi', 'benz', 'volvo']"
      ]
     },
     "execution_count": 38,
     "metadata": {},
     "output_type": "execute_result"
    }
   ],
   "source": [
    "car"
   ]
  },
  {
   "cell_type": "code",
   "execution_count": 39,
   "id": "1601b282",
   "metadata": {},
   "outputs": [
    {
     "data": {
      "text/plain": [
       "list"
      ]
     },
     "execution_count": 39,
     "metadata": {},
     "output_type": "execute_result"
    }
   ],
   "source": [
    "type(car)"
   ]
  },
  {
   "cell_type": "code",
   "execution_count": 42,
   "id": "789178f5",
   "metadata": {},
   "outputs": [],
   "source": [
    "s2 = {1,2,3,4,5,\"priya\",\"college\",\"coding\",\"phone\"}"
   ]
  },
  {
   "cell_type": "code",
   "execution_count": 43,
   "id": "9752a317",
   "metadata": {},
   "outputs": [
    {
     "data": {
      "text/plain": [
       "{1, 2, 3, 4, 5, 'coding', 'college', 'phone', 'priya'}"
      ]
     },
     "execution_count": 43,
     "metadata": {},
     "output_type": "execute_result"
    }
   ],
   "source": [
    "s2"
   ]
  },
  {
   "cell_type": "code",
   "execution_count": 44,
   "id": "a871ad68",
   "metadata": {},
   "outputs": [
    {
     "data": {
      "text/plain": [
       "set"
      ]
     },
     "execution_count": 44,
     "metadata": {},
     "output_type": "execute_result"
    }
   ],
   "source": [
    "type(s2)"
   ]
  },
  {
   "cell_type": "code",
   "execution_count": null,
   "id": "96e74282",
   "metadata": {},
   "outputs": [],
   "source": []
  }
 ],
 "metadata": {
  "kernelspec": {
   "display_name": "Python 3 (ipykernel)",
   "language": "python",
   "name": "python3"
  },
  "language_info": {
   "codemirror_mode": {
    "name": "ipython",
    "version": 3
   },
   "file_extension": ".py",
   "mimetype": "text/x-python",
   "name": "python",
   "nbconvert_exporter": "python",
   "pygments_lexer": "ipython3",
   "version": "3.10.9"
  }
 },
 "nbformat": 4,
 "nbformat_minor": 5
}
