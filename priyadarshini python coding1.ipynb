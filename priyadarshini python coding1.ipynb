{
 "cells": [
  {
   "cell_type": "markdown",
   "id": "e1256f89",
   "metadata": {},
   "source": [
    "# STRING, TUPLES, SETS ,LIST, DICT"
   ]
  },
  {
   "cell_type": "markdown",
   "id": "ef69c8e4",
   "metadata": {},
   "source": [
    "## python"
   ]
  },
  {
   "cell_type": "markdown",
   "id": "4621a592",
   "metadata": {},
   "source": [
    "### coding"
   ]
  },
  {
   "cell_type": "code",
   "execution_count": 1,
   "id": "5066bd0e",
   "metadata": {},
   "outputs": [],
   "source": [
    "strings = \"priya\",\"car\",\"holiday\",\"bike\",\"college\","
   ]
  },
  {
   "cell_type": "code",
   "execution_count": 2,
   "id": "81f145c5",
   "metadata": {},
   "outputs": [
    {
     "data": {
      "text/plain": [
       "('priya', 'car', 'holiday', 'bike', 'college')"
      ]
     },
     "execution_count": 2,
     "metadata": {},
     "output_type": "execute_result"
    }
   ],
   "source": [
    "strings"
   ]
  },
  {
   "cell_type": "code",
   "execution_count": 3,
   "id": "d9384649",
   "metadata": {},
   "outputs": [
    {
     "name": "stdout",
     "output_type": "stream",
     "text": [
      "('priya', 'car', 'holiday', 'bike', 'college')\n"
     ]
    }
   ],
   "source": [
    "print(strings)"
   ]
  },
  {
   "cell_type": "code",
   "execution_count": 4,
   "id": "9a15920d",
   "metadata": {},
   "outputs": [
    {
     "name": "stdout",
     "output_type": "stream",
     "text": [
      "priya\n"
     ]
    }
   ],
   "source": [
    "print(\"priya\")"
   ]
  },
  {
   "cell_type": "code",
   "execution_count": 5,
   "id": "535885f7",
   "metadata": {},
   "outputs": [
    {
     "name": "stdout",
     "output_type": "stream",
     "text": [
      "orange\n"
     ]
    }
   ],
   "source": [
    "print(\"orange\")"
   ]
  },
  {
   "cell_type": "code",
   "execution_count": 6,
   "id": "7a7a0cb1",
   "metadata": {},
   "outputs": [],
   "source": [
    "orange = \"movie\""
   ]
  },
  {
   "cell_type": "code",
   "execution_count": 7,
   "id": "2a9d5334",
   "metadata": {},
   "outputs": [
    {
     "data": {
      "text/plain": [
       "'movie'"
      ]
     },
     "execution_count": 7,
     "metadata": {},
     "output_type": "execute_result"
    }
   ],
   "source": [
    "orange"
   ]
  },
  {
   "cell_type": "markdown",
   "id": "d430047f",
   "metadata": {},
   "source": [
    "# indexing"
   ]
  },
  {
   "cell_type": "code",
   "execution_count": 8,
   "id": "63e969f2",
   "metadata": {},
   "outputs": [],
   "source": [
    "s = [1,2,3,4,5,6]"
   ]
  },
  {
   "cell_type": "code",
   "execution_count": 9,
   "id": "60c6456a",
   "metadata": {},
   "outputs": [
    {
     "name": "stdout",
     "output_type": "stream",
     "text": [
      "[1, 2, 3, 4, 5, 6]\n"
     ]
    }
   ],
   "source": [
    "print(s)"
   ]
  },
  {
   "cell_type": "code",
   "execution_count": 10,
   "id": "449fd90e",
   "metadata": {},
   "outputs": [
    {
     "data": {
      "text/plain": [
       "1"
      ]
     },
     "execution_count": 10,
     "metadata": {},
     "output_type": "execute_result"
    }
   ],
   "source": [
    "s[0]"
   ]
  },
  {
   "cell_type": "code",
   "execution_count": 11,
   "id": "cf32f292",
   "metadata": {},
   "outputs": [
    {
     "data": {
      "text/plain": [
       "3"
      ]
     },
     "execution_count": 11,
     "metadata": {},
     "output_type": "execute_result"
    }
   ],
   "source": [
    "s[2]"
   ]
  },
  {
   "cell_type": "code",
   "execution_count": 12,
   "id": "23b0fc3a",
   "metadata": {},
   "outputs": [],
   "source": [
    "s1 = [\"😍\",\"❤️\",\"🐾\",\"✨\",\"👑\",\"💎\"]"
   ]
  },
  {
   "cell_type": "code",
   "execution_count": 13,
   "id": "14bbd7e4",
   "metadata": {},
   "outputs": [
    {
     "data": {
      "text/plain": [
       "'❤️'"
      ]
     },
     "execution_count": 13,
     "metadata": {},
     "output_type": "execute_result"
    }
   ],
   "source": [
    "s1[1]"
   ]
  },
  {
   "cell_type": "markdown",
   "id": "e27edeea",
   "metadata": {},
   "source": [
    "s2[2]"
   ]
  },
  {
   "cell_type": "markdown",
   "id": "8d037fae",
   "metadata": {},
   "source": []
  },
  {
   "cell_type": "code",
   "execution_count": 14,
   "id": "cca44269",
   "metadata": {},
   "outputs": [
    {
     "data": {
      "text/plain": [
       "'🐾'"
      ]
     },
     "execution_count": 14,
     "metadata": {},
     "output_type": "execute_result"
    }
   ],
   "source": [
    "s1[2]"
   ]
  },
  {
   "cell_type": "code",
   "execution_count": 15,
   "id": "3d24a2f2",
   "metadata": {},
   "outputs": [
    {
     "data": {
      "text/plain": [
       "'😍'"
      ]
     },
     "execution_count": 15,
     "metadata": {},
     "output_type": "execute_result"
    }
   ],
   "source": [
    "s1[0]"
   ]
  },
  {
   "cell_type": "code",
   "execution_count": 16,
   "id": "50178a5d",
   "metadata": {},
   "outputs": [
    {
     "data": {
      "text/plain": [
       "2"
      ]
     },
     "execution_count": 16,
     "metadata": {},
     "output_type": "execute_result"
    }
   ],
   "source": [
    "s[1]"
   ]
  },
  {
   "cell_type": "code",
   "execution_count": 17,
   "id": "2a134537",
   "metadata": {},
   "outputs": [
    {
     "data": {
      "text/plain": [
       "'car'"
      ]
     },
     "execution_count": 17,
     "metadata": {},
     "output_type": "execute_result"
    }
   ],
   "source": [
    "strings[1]"
   ]
  },
  {
   "cell_type": "code",
   "execution_count": 18,
   "id": "a4c5f7ca",
   "metadata": {},
   "outputs": [
    {
     "data": {
      "text/plain": [
       "'holiday'"
      ]
     },
     "execution_count": 18,
     "metadata": {},
     "output_type": "execute_result"
    }
   ],
   "source": [
    "strings[2]"
   ]
  },
  {
   "cell_type": "code",
   "execution_count": 19,
   "id": "bf33d77b",
   "metadata": {},
   "outputs": [
    {
     "data": {
      "text/plain": [
       "'bike'"
      ]
     },
     "execution_count": 19,
     "metadata": {},
     "output_type": "execute_result"
    }
   ],
   "source": [
    "strings[3]"
   ]
  },
  {
   "cell_type": "code",
   "execution_count": 20,
   "id": "5beafbad",
   "metadata": {},
   "outputs": [
    {
     "data": {
      "text/plain": [
       "'college'"
      ]
     },
     "execution_count": 20,
     "metadata": {},
     "output_type": "execute_result"
    }
   ],
   "source": [
    "strings[4]"
   ]
  },
  {
   "cell_type": "code",
   "execution_count": 21,
   "id": "a422b152",
   "metadata": {},
   "outputs": [
    {
     "data": {
      "text/plain": [
       "'college'"
      ]
     },
     "execution_count": 21,
     "metadata": {},
     "output_type": "execute_result"
    }
   ],
   "source": [
    "strings[4]"
   ]
  },
  {
   "cell_type": "code",
   "execution_count": 22,
   "id": "d6fd3192",
   "metadata": {},
   "outputs": [],
   "source": [
    "family = [\"raja kishore behera\",\"pramila behera\",\"priyadarshini behera\",\"rathikanth behera\"]"
   ]
  },
  {
   "cell_type": "code",
   "execution_count": 23,
   "id": "06c29150",
   "metadata": {},
   "outputs": [
    {
     "data": {
      "text/plain": [
       "['raja kishore behera',\n",
       " 'pramila behera',\n",
       " 'priyadarshini behera',\n",
       " 'rathikanth behera']"
      ]
     },
     "execution_count": 23,
     "metadata": {},
     "output_type": "execute_result"
    }
   ],
   "source": [
    "family"
   ]
  },
  {
   "cell_type": "code",
   "execution_count": 24,
   "id": "c11babcd",
   "metadata": {},
   "outputs": [
    {
     "data": {
      "text/plain": [
       "'raja kishore behera'"
      ]
     },
     "execution_count": 24,
     "metadata": {},
     "output_type": "execute_result"
    }
   ],
   "source": [
    "family[0]"
   ]
  },
  {
   "cell_type": "code",
   "execution_count": 25,
   "id": "bc75bb64",
   "metadata": {},
   "outputs": [
    {
     "data": {
      "text/plain": [
       "'pramila behera'"
      ]
     },
     "execution_count": 25,
     "metadata": {},
     "output_type": "execute_result"
    }
   ],
   "source": [
    "family[1]"
   ]
  },
  {
   "cell_type": "code",
   "execution_count": 26,
   "id": "e99173db",
   "metadata": {},
   "outputs": [
    {
     "data": {
      "text/plain": [
       "'priyadarshini behera'"
      ]
     },
     "execution_count": 26,
     "metadata": {},
     "output_type": "execute_result"
    }
   ],
   "source": [
    "family[2]"
   ]
  },
  {
   "cell_type": "code",
   "execution_count": 27,
   "id": "6a173419",
   "metadata": {},
   "outputs": [
    {
     "data": {
      "text/plain": [
       "'rathikanth behera'"
      ]
     },
     "execution_count": 27,
     "metadata": {},
     "output_type": "execute_result"
    }
   ],
   "source": [
    "family[3]"
   ]
  },
  {
   "cell_type": "code",
   "execution_count": 28,
   "id": "916a7b66",
   "metadata": {},
   "outputs": [
    {
     "data": {
      "text/plain": [
       "'priyadarshini behera'"
      ]
     },
     "execution_count": 28,
     "metadata": {},
     "output_type": "execute_result"
    }
   ],
   "source": [
    "family[2]"
   ]
  },
  {
   "cell_type": "code",
   "execution_count": 29,
   "id": "ec4d3361",
   "metadata": {},
   "outputs": [],
   "source": [
    "priyadarshini = (\"iam priyadarshini from hyderabad and i stay in domalguda\")"
   ]
  },
  {
   "cell_type": "code",
   "execution_count": 30,
   "id": "2b30c91c",
   "metadata": {},
   "outputs": [
    {
     "data": {
      "text/plain": [
       "'iam priyadarshini from hyderabad and i stay in domalguda'"
      ]
     },
     "execution_count": 30,
     "metadata": {},
     "output_type": "execute_result"
    }
   ],
   "source": [
    "priyadarshini"
   ]
  },
  {
   "cell_type": "code",
   "execution_count": 31,
   "id": "6befb995",
   "metadata": {},
   "outputs": [
    {
     "data": {
      "text/plain": [
       "'a'"
      ]
     },
     "execution_count": 31,
     "metadata": {},
     "output_type": "execute_result"
    }
   ],
   "source": [
    "priyadarshini[1]"
   ]
  },
  {
   "cell_type": "code",
   "execution_count": 32,
   "id": "4242e951",
   "metadata": {},
   "outputs": [
    {
     "data": {
      "text/plain": [
       "'p'"
      ]
     },
     "execution_count": 32,
     "metadata": {},
     "output_type": "execute_result"
    }
   ],
   "source": [
    "priyadarshini[4]"
   ]
  },
  {
   "cell_type": "code",
   "execution_count": 33,
   "id": "982afc0c",
   "metadata": {},
   "outputs": [
    {
     "data": {
      "text/plain": [
       "'a'"
      ]
     },
     "execution_count": 33,
     "metadata": {},
     "output_type": "execute_result"
    }
   ],
   "source": [
    "priyadarshini[-1]"
   ]
  },
  {
   "cell_type": "code",
   "execution_count": 34,
   "id": "8d78c506",
   "metadata": {},
   "outputs": [
    {
     "data": {
      "text/plain": [
       "'iam priyad'"
      ]
     },
     "execution_count": 34,
     "metadata": {},
     "output_type": "execute_result"
    }
   ],
   "source": [
    "priyadarshini[0:10:1]"
   ]
  },
  {
   "cell_type": "code",
   "execution_count": 35,
   "id": "ffe36251",
   "metadata": {},
   "outputs": [],
   "source": [
    "priyadarshini = \"i write code\""
   ]
  },
  {
   "cell_type": "code",
   "execution_count": 36,
   "id": "441bbc82",
   "metadata": {},
   "outputs": [
    {
     "data": {
      "text/plain": [
       "'i write co'"
      ]
     },
     "execution_count": 36,
     "metadata": {},
     "output_type": "execute_result"
    }
   ],
   "source": [
    "priyadarshini[0:10:1]"
   ]
  },
  {
   "cell_type": "code",
   "execution_count": 37,
   "id": "f9019e0d",
   "metadata": {},
   "outputs": [
    {
     "data": {
      "text/plain": [
       "'iwiec'"
      ]
     },
     "execution_count": 37,
     "metadata": {},
     "output_type": "execute_result"
    }
   ],
   "source": [
    "priyadarshini[0:10:2]"
   ]
  },
  {
   "cell_type": "code",
   "execution_count": 38,
   "id": "6156c7d5",
   "metadata": {},
   "outputs": [
    {
     "data": {
      "text/plain": [
       "'ireo'"
      ]
     },
     "execution_count": 38,
     "metadata": {},
     "output_type": "execute_result"
    }
   ],
   "source": [
    "priyadarshini[0:10:3]"
   ]
  },
  {
   "cell_type": "code",
   "execution_count": 39,
   "id": "6c1670e9",
   "metadata": {},
   "outputs": [
    {
     "data": {
      "text/plain": [
       "'iic'"
      ]
     },
     "execution_count": 39,
     "metadata": {},
     "output_type": "execute_result"
    }
   ],
   "source": [
    "priyadarshini[0:10:4]"
   ]
  },
  {
   "cell_type": "code",
   "execution_count": null,
   "id": "0eb1f124",
   "metadata": {},
   "outputs": [],
   "source": []
  }
 ],
 "metadata": {
  "kernelspec": {
   "display_name": "Python 3 (ipykernel)",
   "language": "python",
   "name": "python3"
  },
  "language_info": {
   "codemirror_mode": {
    "name": "ipython",
    "version": 3
   },
   "file_extension": ".py",
   "mimetype": "text/x-python",
   "name": "python",
   "nbconvert_exporter": "python",
   "pygments_lexer": "ipython3",
   "version": "3.10.9"
  }
 },
 "nbformat": 4,
 "nbformat_minor": 5
}
