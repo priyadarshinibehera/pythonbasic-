{
 "cells": [
  {
   "cell_type": "markdown",
   "id": "eab43b66",
   "metadata": {},
   "source": [
    "# indexing"
   ]
  },
  {
   "cell_type": "code",
   "execution_count": 1,
   "id": "54f4e4cf",
   "metadata": {},
   "outputs": [],
   "source": [
    "list = [\"priya\",\"car\",\"money\",\"watch\",\"bike\",\"college\"]"
   ]
  },
  {
   "cell_type": "code",
   "execution_count": 2,
   "id": "3a21e692",
   "metadata": {},
   "outputs": [
    {
     "data": {
      "text/plain": [
       "['priya', 'car', 'money', 'watch', 'bike', 'college']"
      ]
     },
     "execution_count": 2,
     "metadata": {},
     "output_type": "execute_result"
    }
   ],
   "source": [
    "list"
   ]
  },
  {
   "cell_type": "code",
   "execution_count": 3,
   "id": "3003ebfc",
   "metadata": {},
   "outputs": [],
   "source": [
    "a = (\"a\",\"b\",\"c\",\"d\",\"e\",\"f\",\"g\",\"h\",\"i\")"
   ]
  },
  {
   "cell_type": "code",
   "execution_count": 4,
   "id": "2c655bdc",
   "metadata": {},
   "outputs": [
    {
     "data": {
      "text/plain": [
       "('a', 'b', 'c', 'd', 'e', 'f', 'g', 'h', 'i')"
      ]
     },
     "execution_count": 4,
     "metadata": {},
     "output_type": "execute_result"
    }
   ],
   "source": [
    "a"
   ]
  },
  {
   "cell_type": "code",
   "execution_count": 5,
   "id": "569e7251",
   "metadata": {},
   "outputs": [],
   "source": [
    "b = {1,2,3,4,5,6,7,8}"
   ]
  },
  {
   "cell_type": "code",
   "execution_count": 6,
   "id": "caa9b82b",
   "metadata": {},
   "outputs": [],
   "source": [
    "set = {1,2,3,4,5,6,7,8,9,10}"
   ]
  },
  {
   "cell_type": "code",
   "execution_count": 7,
   "id": "a1723418",
   "metadata": {},
   "outputs": [],
   "source": [
    "dic = {\"key\": \"value\",\"key1\": \"value2\",\"key\": \"value2\"}"
   ]
  },
  {
   "cell_type": "code",
   "execution_count": 8,
   "id": "21b9c7b4",
   "metadata": {},
   "outputs": [],
   "source": [
    "priya = {\"name\": \"priya\", \"email_id\": \"priyadarshini046@gmail.com\", \"college\": \"keshav memorial institute of commerce and sciences\",\"place\": \"hyderabad\"}"
   ]
  },
  {
   "cell_type": "code",
   "execution_count": 9,
   "id": "edeb893e",
   "metadata": {},
   "outputs": [
    {
     "data": {
      "text/plain": [
       "{'name': 'priya',\n",
       " 'email_id': 'priyadarshini046@gmail.com',\n",
       " 'college': 'keshav memorial institute of commerce and sciences',\n",
       " 'place': 'hyderabad'}"
      ]
     },
     "execution_count": 9,
     "metadata": {},
     "output_type": "execute_result"
    }
   ],
   "source": [
    "priya"
   ]
  },
  {
   "cell_type": "code",
   "execution_count": 10,
   "id": "1f60ba00",
   "metadata": {},
   "outputs": [
    {
     "data": {
      "text/plain": [
       "dict_values(['priya', 'priyadarshini046@gmail.com', 'keshav memorial institute of commerce and sciences', 'hyderabad'])"
      ]
     },
     "execution_count": 10,
     "metadata": {},
     "output_type": "execute_result"
    }
   ],
   "source": [
    "priya.values()"
   ]
  },
  {
   "cell_type": "code",
   "execution_count": 11,
   "id": "9b42a46e",
   "metadata": {},
   "outputs": [
    {
     "data": {
      "text/plain": [
       "dict_keys(['name', 'email_id', 'college', 'place'])"
      ]
     },
     "execution_count": 11,
     "metadata": {},
     "output_type": "execute_result"
    }
   ],
   "source": [
    "priya.keys()"
   ]
  },
  {
   "cell_type": "code",
   "execution_count": 12,
   "id": "7418d5f1",
   "metadata": {},
   "outputs": [
    {
     "data": {
      "text/plain": [
       "<function dict.values>"
      ]
     },
     "execution_count": 12,
     "metadata": {},
     "output_type": "execute_result"
    }
   ],
   "source": [
    "priya.values "
   ]
  },
  {
   "cell_type": "code",
   "execution_count": 13,
   "id": "6d23314b",
   "metadata": {},
   "outputs": [
    {
     "data": {
      "text/plain": [
       "dict"
      ]
     },
     "execution_count": 13,
     "metadata": {},
     "output_type": "execute_result"
    }
   ],
   "source": [
    "type(priya)"
   ]
  },
  {
   "cell_type": "code",
   "execution_count": 14,
   "id": "b27aac52",
   "metadata": {},
   "outputs": [
    {
     "data": {
      "text/plain": [
       "{'name': 'priya',\n",
       " 'email_id': 'priyadarshini046@gmail.com',\n",
       " 'college': 'keshav memorial institute of commerce and sciences',\n",
       " 'place': 'hyderabad'}"
      ]
     },
     "execution_count": 14,
     "metadata": {},
     "output_type": "execute_result"
    }
   ],
   "source": [
    "priya"
   ]
  },
  {
   "cell_type": "code",
   "execution_count": 15,
   "id": "1a2cdd38",
   "metadata": {},
   "outputs": [],
   "source": [
    "priya[0] = \"rani\""
   ]
  },
  {
   "cell_type": "code",
   "execution_count": 16,
   "id": "ac72aa76",
   "metadata": {},
   "outputs": [
    {
     "data": {
      "text/plain": [
       "{'name': 'priya',\n",
       " 'email_id': 'priyadarshini046@gmail.com',\n",
       " 'college': 'keshav memorial institute of commerce and sciences',\n",
       " 'place': 'hyderabad',\n",
       " 0: 'rani'}"
      ]
     },
     "execution_count": 16,
     "metadata": {},
     "output_type": "execute_result"
    }
   ],
   "source": [
    "priya"
   ]
  },
  {
   "cell_type": "code",
   "execution_count": 17,
   "id": "ff017d0e",
   "metadata": {},
   "outputs": [],
   "source": [
    "priya[1] = \"car\""
   ]
  },
  {
   "cell_type": "code",
   "execution_count": 18,
   "id": "1dc48d6b",
   "metadata": {},
   "outputs": [
    {
     "data": {
      "text/plain": [
       "{'name': 'priya',\n",
       " 'email_id': 'priyadarshini046@gmail.com',\n",
       " 'college': 'keshav memorial institute of commerce and sciences',\n",
       " 'place': 'hyderabad',\n",
       " 0: 'rani',\n",
       " 1: 'car'}"
      ]
     },
     "execution_count": 18,
     "metadata": {},
     "output_type": "execute_result"
    }
   ],
   "source": [
    "priya"
   ]
  },
  {
   "cell_type": "code",
   "execution_count": 19,
   "id": "54339994",
   "metadata": {},
   "outputs": [],
   "source": [
    "priya[2] = \"ktm\""
   ]
  },
  {
   "cell_type": "code",
   "execution_count": 20,
   "id": "47162943",
   "metadata": {},
   "outputs": [
    {
     "data": {
      "text/plain": [
       "{'name': 'priya',\n",
       " 'email_id': 'priyadarshini046@gmail.com',\n",
       " 'college': 'keshav memorial institute of commerce and sciences',\n",
       " 'place': 'hyderabad',\n",
       " 0: 'rani',\n",
       " 1: 'car',\n",
       " 2: 'ktm'}"
      ]
     },
     "execution_count": 20,
     "metadata": {},
     "output_type": "execute_result"
    }
   ],
   "source": [
    "priya"
   ]
  },
  {
   "cell_type": "code",
   "execution_count": 21,
   "id": "ec668f6a",
   "metadata": {},
   "outputs": [],
   "source": [
    "priya[\"passion\"] = \"photography\""
   ]
  },
  {
   "cell_type": "code",
   "execution_count": 22,
   "id": "08a6d603",
   "metadata": {
    "scrolled": true
   },
   "outputs": [
    {
     "data": {
      "text/plain": [
       "{'name': 'priya',\n",
       " 'email_id': 'priyadarshini046@gmail.com',\n",
       " 'college': 'keshav memorial institute of commerce and sciences',\n",
       " 'place': 'hyderabad',\n",
       " 0: 'rani',\n",
       " 1: 'car',\n",
       " 2: 'ktm',\n",
       " 'passion': 'photography'}"
      ]
     },
     "execution_count": 22,
     "metadata": {},
     "output_type": "execute_result"
    }
   ],
   "source": [
    "priya"
   ]
  },
  {
   "cell_type": "code",
   "execution_count": 23,
   "id": "5ed63204",
   "metadata": {},
   "outputs": [],
   "source": [
    "t = (\"priya\",\"college\",\"car\",\"book\",\"bike\")"
   ]
  },
  {
   "cell_type": "code",
   "execution_count": 24,
   "id": "59a465f7",
   "metadata": {},
   "outputs": [
    {
     "data": {
      "text/plain": [
       "('priya', 'college', 'car', 'book', 'bike')"
      ]
     },
     "execution_count": 24,
     "metadata": {},
     "output_type": "execute_result"
    }
   ],
   "source": [
    "t"
   ]
  },
  {
   "cell_type": "markdown",
   "id": "33da0528",
   "metadata": {},
   "source": [
    "# file concept"
   ]
  },
  {
   "cell_type": "code",
   "execution_count": 47,
   "id": "a8391843",
   "metadata": {},
   "outputs": [],
   "source": [
    "f = open(\"priya.txt\",\"w\")"
   ]
  },
  {
   "cell_type": "code",
   "execution_count": 45,
   "id": "4a9ff20f",
   "metadata": {},
   "outputs": [
    {
     "data": {
      "text/plain": [
       "65"
      ]
     },
     "execution_count": 45,
     "metadata": {},
     "output_type": "execute_result"
    }
   ],
   "source": [
    "f.write(\"this is my first file written in jupyter notewook on 1-april-2023\")"
   ]
  },
  {
   "cell_type": "code",
   "execution_count": 46,
   "id": "a2988a54",
   "metadata": {},
   "outputs": [],
   "source": [
    "f.close()"
   ]
  },
  {
   "cell_type": "code",
   "execution_count": null,
   "id": "9b1ad228",
   "metadata": {},
   "outputs": [],
   "source": []
  },
  {
   "cell_type": "code",
   "execution_count": null,
   "id": "9c2325f2",
   "metadata": {},
   "outputs": [],
   "source": []
  }
 ],
 "metadata": {
  "kernelspec": {
   "display_name": "Python 3 (ipykernel)",
   "language": "python",
   "name": "python3"
  },
  "language_info": {
   "codemirror_mode": {
    "name": "ipython",
    "version": 3
   },
   "file_extension": ".py",
   "mimetype": "text/x-python",
   "name": "python",
   "nbconvert_exporter": "python",
   "pygments_lexer": "ipython3",
   "version": "3.10.9"
  }
 },
 "nbformat": 4,
 "nbformat_minor": 5
}
