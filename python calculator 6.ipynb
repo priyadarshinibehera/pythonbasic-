{
 "cells": [
  {
   "cell_type": "markdown",
   "id": "f691e72a",
   "metadata": {},
   "source": [
    "# Calculator"
   ]
  },
  {
   "cell_type": "code",
   "execution_count": 9,
   "id": "3bc882b7",
   "metadata": {},
   "outputs": [
    {
     "name": "stdout",
     "output_type": "stream",
     "text": [
      "enter a value5\n",
      "enter b value5\n",
      "enter a operations('+','-','*','/','//','%')*\n",
      "here we are performing multiplication operation 25\n"
     ]
    }
   ],
   "source": [
    "a = int(input(\"enter a value\"))\n",
    "b = int(input(\"enter b value\"))\n",
    "operations = input(\"enter a operations('+','-','*','/','//','%')\")\n",
    "                   \n",
    "if operations == \"+\":\n",
    "    print(\"here we are performing addition operation\",a+b)\n",
    "elif operations == \"-\":\n",
    "    print(\"here we are performing substraction operation\",a-b)\n",
    "elif operations == \"*\":\n",
    "    print(\"here we are performing multiplication operation\",a*b)\n",
    "elif operations == \"/\":\n",
    "    print(\"here we are performing division operation\",a/b)\n",
    "elif operations == \"//\":\n",
    "    print(\"here we are performing division operation with out decimal point\", a//b)\n",
    "elif operations == \"%\":\n",
    "    print(\"here we are performing modular operation with out decimal point\", a%b)\n",
    "else:\n",
    "    print(\"please enter the vaild operation\")\n",
    "\n",
    "    \n",
    "    "
   ]
  },
  {
   "cell_type": "code",
   "execution_count": null,
   "id": "ee578226",
   "metadata": {},
   "outputs": [],
   "source": []
  }
 ],
 "metadata": {
  "kernelspec": {
   "display_name": "Python 3 (ipykernel)",
   "language": "python",
   "name": "python3"
  },
  "language_info": {
   "codemirror_mode": {
    "name": "ipython",
    "version": 3
   },
   "file_extension": ".py",
   "mimetype": "text/x-python",
   "name": "python",
   "nbconvert_exporter": "python",
   "pygments_lexer": "ipython3",
   "version": "3.10.9"
  }
 },
 "nbformat": 4,
 "nbformat_minor": 5
}
